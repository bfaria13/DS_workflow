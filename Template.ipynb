{
 "cells": [
  {
   "cell_type": "markdown",
   "id": "af41f177",
   "metadata": {},
   "source": [
    "# ...insira seu titulo aqui...\n",
    "\n",
    "<br>\n",
    "\n",
    "**Descrição do trabalho:** (item 2 do Storytelling)\n",
    "\n",
    "...Insira seu texto aqui...\n",
    "\n",
    "<br>\n",
    "\n",
    "**O trabalho será dividido nas seguintes sessões:**\n",
    "\n",
    "1. Importação de bibliotecas.\n",
    "2. Download dos dados.\n",
    "3. Analise exploratória dos dados.\n",
    "4. Pré-processamento dos dados.\n",
    "5. Criação dos modelos de ML.\n",
    "6. Conclusões.\n",
    "\n",
    "\n",
    "_Obs.: lembre-se de sempre comentar suas células de código!_"
   ]
  },
  {
   "cell_type": "markdown",
   "id": "3c328e21",
   "metadata": {},
   "source": [
    "# 1. Importação de bibliotecas"
   ]
  },
  {
   "cell_type": "code",
   "execution_count": null,
   "id": "c1cf0f39",
   "metadata": {},
   "outputs": [],
   "source": []
  },
  {
   "cell_type": "markdown",
   "id": "7c8c9d17",
   "metadata": {},
   "source": [
    "# 2. Download dos dados"
   ]
  },
  {
   "cell_type": "code",
   "execution_count": null,
   "id": "f4d19a90",
   "metadata": {},
   "outputs": [],
   "source": []
  },
  {
   "cell_type": "code",
   "execution_count": null,
   "id": "83c8fc32",
   "metadata": {},
   "outputs": [],
   "source": []
  },
  {
   "cell_type": "markdown",
   "id": "bbf552ca",
   "metadata": {},
   "source": [
    "# 3. Analise exploratória dos dados"
   ]
  },
  {
   "cell_type": "code",
   "execution_count": null,
   "id": "661f4cdb",
   "metadata": {},
   "outputs": [],
   "source": []
  },
  {
   "cell_type": "code",
   "execution_count": null,
   "id": "a9b7df40",
   "metadata": {},
   "outputs": [],
   "source": []
  },
  {
   "cell_type": "code",
   "execution_count": null,
   "id": "d2ec454f",
   "metadata": {},
   "outputs": [],
   "source": []
  },
  {
   "cell_type": "markdown",
   "id": "2093544d",
   "metadata": {},
   "source": [
    "# 4. Pré-processamento dos dados"
   ]
  },
  {
   "cell_type": "code",
   "execution_count": null,
   "id": "32d08cca",
   "metadata": {},
   "outputs": [],
   "source": []
  },
  {
   "cell_type": "code",
   "execution_count": null,
   "id": "f26a0464",
   "metadata": {},
   "outputs": [],
   "source": []
  },
  {
   "cell_type": "markdown",
   "id": "0ab6b127",
   "metadata": {},
   "source": [
    "# 5. Criação dos modelos de ML"
   ]
  },
  {
   "cell_type": "code",
   "execution_count": null,
   "id": "e5f23c2f",
   "metadata": {},
   "outputs": [],
   "source": []
  },
  {
   "cell_type": "code",
   "execution_count": null,
   "id": "6a1fae47",
   "metadata": {},
   "outputs": [],
   "source": []
  },
  {
   "cell_type": "code",
   "execution_count": null,
   "id": "3e4af871",
   "metadata": {},
   "outputs": [],
   "source": []
  },
  {
   "cell_type": "markdown",
   "id": "b5d0d45b",
   "metadata": {},
   "source": [
    "# 6. Conclusões:"
   ]
  },
  {
   "cell_type": "code",
   "execution_count": null,
   "id": "e252ea29",
   "metadata": {},
   "outputs": [],
   "source": []
  }
 ],
 "metadata": {
  "kernelspec": {
   "display_name": "Python 3",
   "language": "python",
   "name": "python3"
  },
  "language_info": {
   "codemirror_mode": {
    "name": "ipython",
    "version": 3
   },
   "file_extension": ".py",
   "mimetype": "text/x-python",
   "name": "python",
   "nbconvert_exporter": "python",
   "pygments_lexer": "ipython3",
   "version": "3.8.8"
  }
 },
 "nbformat": 4,
 "nbformat_minor": 5
}
